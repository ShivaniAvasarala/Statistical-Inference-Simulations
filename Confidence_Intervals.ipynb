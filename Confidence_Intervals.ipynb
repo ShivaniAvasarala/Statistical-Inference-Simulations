{
 "cells": [
  {
   "cell_type": "code",
   "execution_count": 3,
   "metadata": {},
   "outputs": [],
   "source": [
    "import pandas as pd\n",
    "import numpy as np\n",
    "import matplotlib.pyplot as plt\n",
    "import seaborn as sns "
   ]
  },
  {
   "cell_type": "code",
   "execution_count": 4,
   "metadata": {},
   "outputs": [
    {
     "data": {
      "text/plain": [
       "['anagrams',\n",
       " 'anscombe',\n",
       " 'attention',\n",
       " 'brain_networks',\n",
       " 'car_crashes',\n",
       " 'diamonds',\n",
       " 'dots',\n",
       " 'dowjones',\n",
       " 'exercise',\n",
       " 'flights',\n",
       " 'fmri',\n",
       " 'geyser',\n",
       " 'glue',\n",
       " 'healthexp',\n",
       " 'iris',\n",
       " 'mpg',\n",
       " 'penguins',\n",
       " 'planets',\n",
       " 'seaice',\n",
       " 'taxis',\n",
       " 'tips',\n",
       " 'titanic']"
      ]
     },
     "execution_count": 4,
     "metadata": {},
     "output_type": "execute_result"
    }
   ],
   "source": [
    "sns.get_dataset_names()"
   ]
  },
  {
   "cell_type": "code",
   "execution_count": 5,
   "metadata": {},
   "outputs": [
    {
     "data": {
      "text/html": [
       "<div>\n",
       "<style scoped>\n",
       "    .dataframe tbody tr th:only-of-type {\n",
       "        vertical-align: middle;\n",
       "    }\n",
       "\n",
       "    .dataframe tbody tr th {\n",
       "        vertical-align: top;\n",
       "    }\n",
       "\n",
       "    .dataframe thead th {\n",
       "        text-align: right;\n",
       "    }\n",
       "</style>\n",
       "<table border=\"1\" class=\"dataframe\">\n",
       "  <thead>\n",
       "    <tr style=\"text-align: right;\">\n",
       "      <th></th>\n",
       "      <th>method</th>\n",
       "      <th>number</th>\n",
       "      <th>orbital_period</th>\n",
       "      <th>mass</th>\n",
       "      <th>distance</th>\n",
       "      <th>year</th>\n",
       "    </tr>\n",
       "  </thead>\n",
       "  <tbody>\n",
       "    <tr>\n",
       "      <th>0</th>\n",
       "      <td>Radial Velocity</td>\n",
       "      <td>1</td>\n",
       "      <td>269.300</td>\n",
       "      <td>7.10</td>\n",
       "      <td>77.40</td>\n",
       "      <td>2006</td>\n",
       "    </tr>\n",
       "    <tr>\n",
       "      <th>1</th>\n",
       "      <td>Radial Velocity</td>\n",
       "      <td>1</td>\n",
       "      <td>874.774</td>\n",
       "      <td>2.21</td>\n",
       "      <td>56.95</td>\n",
       "      <td>2008</td>\n",
       "    </tr>\n",
       "    <tr>\n",
       "      <th>2</th>\n",
       "      <td>Radial Velocity</td>\n",
       "      <td>1</td>\n",
       "      <td>763.000</td>\n",
       "      <td>2.60</td>\n",
       "      <td>19.84</td>\n",
       "      <td>2011</td>\n",
       "    </tr>\n",
       "    <tr>\n",
       "      <th>3</th>\n",
       "      <td>Radial Velocity</td>\n",
       "      <td>1</td>\n",
       "      <td>326.030</td>\n",
       "      <td>19.40</td>\n",
       "      <td>110.62</td>\n",
       "      <td>2007</td>\n",
       "    </tr>\n",
       "    <tr>\n",
       "      <th>4</th>\n",
       "      <td>Radial Velocity</td>\n",
       "      <td>1</td>\n",
       "      <td>516.220</td>\n",
       "      <td>10.50</td>\n",
       "      <td>119.47</td>\n",
       "      <td>2009</td>\n",
       "    </tr>\n",
       "  </tbody>\n",
       "</table>\n",
       "</div>"
      ],
      "text/plain": [
       "            method  number  orbital_period   mass  distance  year\n",
       "0  Radial Velocity       1         269.300   7.10     77.40  2006\n",
       "1  Radial Velocity       1         874.774   2.21     56.95  2008\n",
       "2  Radial Velocity       1         763.000   2.60     19.84  2011\n",
       "3  Radial Velocity       1         326.030  19.40    110.62  2007\n",
       "4  Radial Velocity       1         516.220  10.50    119.47  2009"
      ]
     },
     "execution_count": 5,
     "metadata": {},
     "output_type": "execute_result"
    }
   ],
   "source": [
    "df= sns.load_dataset('planets')\n",
    "df.head()"
   ]
  },
  {
   "cell_type": "code",
   "execution_count": 6,
   "metadata": {},
   "outputs": [
    {
     "name": "stdout",
     "output_type": "stream",
     "text": [
      "<class 'pandas.core.frame.DataFrame'>\n",
      "RangeIndex: 1035 entries, 0 to 1034\n",
      "Data columns (total 6 columns):\n",
      " #   Column          Non-Null Count  Dtype  \n",
      "---  ------          --------------  -----  \n",
      " 0   method          1035 non-null   object \n",
      " 1   number          1035 non-null   int64  \n",
      " 2   orbital_period  992 non-null    float64\n",
      " 3   mass            513 non-null    float64\n",
      " 4   distance        808 non-null    float64\n",
      " 5   year            1035 non-null   int64  \n",
      "dtypes: float64(3), int64(2), object(1)\n",
      "memory usage: 48.6+ KB\n"
     ]
    }
   ],
   "source": [
    "df.info()"
   ]
  },
  {
   "cell_type": "code",
   "execution_count": 7,
   "metadata": {},
   "outputs": [],
   "source": [
    "df.orbital_period.isna().sum()\n",
    "orbital_period_data = df.orbital_period.dropna()"
   ]
  },
  {
   "cell_type": "code",
   "execution_count": 8,
   "metadata": {},
   "outputs": [
    {
     "name": "stdout",
     "output_type": "stream",
     "text": [
      "2002.9175960947582 , 26014.728304062508\n"
     ]
    }
   ],
   "source": [
    "true_mean= df.orbital_period.mean() \n",
    "true_std= df.orbital_period.std()\n",
    "print(true_mean, ',', true_std)"
   ]
  },
  {
   "cell_type": "markdown",
   "metadata": {},
   "source": [
    "- Create 95% and 99% CI for orbital_period and check how many of these actually contain the true population mean. Give your reasoning for the sample size you pick.\n",
    "- Do the above simulation for a) population std dev is known b) population std is unknown i.e calculate from the sample"
   ]
  },
  {
   "cell_type": "code",
   "execution_count": 9,
   "metadata": {},
   "outputs": [
    {
     "data": {
      "text/plain": [
       "np.float64(24.273066584470723)"
      ]
     },
     "execution_count": 9,
     "metadata": {},
     "output_type": "execute_result"
    }
   ],
   "source": [
    "df.orbital_period.skew()"
   ]
  },
  {
   "cell_type": "code",
   "execution_count": 13,
   "metadata": {},
   "outputs": [],
   "source": [
    "# Function to calculate confidence intervals when population std dev is known\n",
    "def calculate_confidence_interval_known_std(sample, population_std, confidence_level):\n",
    "    sample_mean = np.mean(sample)\n",
    "    sample_size = len(sample)\n",
    "    \n",
    "    # z-scores for 95% and 99% confidence intervals\n",
    "    z_scores = {0.95: 1.96, 0.99: 2.576}\n",
    "    c = z_scores[confidence_level]\n",
    "    \n",
    "    # Standard Error\n",
    "    se = population_std / np.sqrt(sample_size)\n",
    "    \n",
    "    # Margin of Error\n",
    "    me = c * se\n",
    "    \n",
    "    return (sample_mean - me, sample_mean + me)\n",
    "\n",
    "# Function to calculate confidence intervals when population std dev is unknown\n",
    "def calculate_confidence_interval_unknown_std(sample, confidence_level):\n",
    "    sample_mean = np.mean(sample)\n",
    "    sample_std = np.std(sample, ddof=1)\n",
    "    sample_size = len(sample)\n",
    "    \n",
    "    # z-scores for 95% and 99% confidence intervals\n",
    "    z_scores = {0.95: 1.96, 0.99: 2.576}\n",
    "    c = z_scores[confidence_level]\n",
    "    \n",
    "    # Standard Error\n",
    "    se = sample_std / np.sqrt(sample_size)\n",
    "    \n",
    "    # Margin of Error\n",
    "    me = c * se\n",
    "    \n",
    "    return (sample_mean - me, sample_mean + me)\n"
   ]
  },
  {
   "cell_type": "code",
   "execution_count": 15,
   "metadata": {},
   "outputs": [
    {
     "name": "stdout",
     "output_type": "stream",
     "text": [
      "\n",
      "Confidence Level: 95.0%\n",
      "Known Std Dev - Intervals containing true mean: 9036/10000\n",
      "Unknown Std Dev - Intervals containing true mean: 3700/10000\n",
      "\n",
      "Confidence Level: 99.0%\n",
      "Known Std Dev - Intervals containing true mean: 9763/10000\n",
      "Unknown Std Dev - Intervals containing true mean: 4229/10000\n"
     ]
    }
   ],
   "source": [
    "# Simulation parameters\n",
    "sample_size = 100\n",
    "num_samples = 10000\n",
    "confidence_levels = [0.95, 0.99]\n",
    "\n",
    "# Lists to store the results\n",
    "contains_true_mean_known = {0.95: 0, 0.99: 0}\n",
    "contains_true_mean_unknown = {0.95: 0, 0.99: 0}\n",
    "\n",
    "# Run the simulations\n",
    "for _ in range(num_samples):\n",
    "    sample = np.random.choice(orbital_period_data, size=sample_size, replace=True)\n",
    "    \n",
    "    for confidence_level in confidence_levels:\n",
    "        ci_known = calculate_confidence_interval_known_std(sample, true_std, confidence_level)\n",
    "        if ci_known[0] <= true_mean <= ci_known[1]:\n",
    "            contains_true_mean_known[confidence_level] += 1\n",
    "        \n",
    "        ci_unknown = calculate_confidence_interval_unknown_std(sample, confidence_level)\n",
    "        if ci_unknown[0] <= true_mean <= ci_unknown[1]:\n",
    "            contains_true_mean_unknown[confidence_level] += 1\n",
    "\n",
    "# Print the results\n",
    "for confidence_level in confidence_levels:\n",
    "    print(f\"\\nConfidence Level: {confidence_level*100}%\")\n",
    "    print(f\"Known Std Dev - Intervals containing true mean: {contains_true_mean_known[confidence_level]}/{num_samples}\")\n",
    "    print(f\"Unknown Std Dev - Intervals containing true mean: {contains_true_mean_unknown[confidence_level]}/{num_samples}\")\n"
   ]
  }
 ],
 "metadata": {
  "kernelspec": {
   "display_name": "venv",
   "language": "python",
   "name": "python3"
  },
  "language_info": {
   "codemirror_mode": {
    "name": "ipython",
    "version": 3
   },
   "file_extension": ".py",
   "mimetype": "text/x-python",
   "name": "python",
   "nbconvert_exporter": "python",
   "pygments_lexer": "ipython3",
   "version": "3.9.12"
  }
 },
 "nbformat": 4,
 "nbformat_minor": 2
}
