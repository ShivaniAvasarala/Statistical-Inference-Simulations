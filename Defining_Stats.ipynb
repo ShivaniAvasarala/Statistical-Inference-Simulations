{
 "cells": [
  {
   "cell_type": "markdown",
   "id": "f4853235",
   "metadata": {},
   "source": [
    "## Excercise \n",
    "Write functions for calculating mean,median,mode,standard deviation, variance, range, IQR, skewness, kurtosis"
   ]
  },
  {
   "cell_type": "code",
   "execution_count": 2,
   "id": "b6f91138",
   "metadata": {},
   "outputs": [],
   "source": [
    "import numpy as np\n",
    "import math"
   ]
  },
  {
   "cell_type": "code",
   "execution_count": 3,
   "id": "b2983d5c",
   "metadata": {},
   "outputs": [],
   "source": [
    "data= np.array([[685, 560, 630, 193, 836, 764, 708, 360,  10, 724],\n",
    "       [278, 755, 805, 600,  71, 473, 601, 397, 315, 706],\n",
    "       [487, 552,  88, 175, 601, 850, 678, 538, 846,  73],\n",
    "       [778, 917, 116, 977, 756, 710, 848, 432, 449, 851],\n",
    "       [100, 985, 178, 756, 798, 660, 148, 911, 424, 289],\n",
    "       [962, 266, 698, 640, 545, 544, 715, 245, 152, 676],\n",
    "       [511, 460, 883, 184,  29, 803, 129, 129, 933,  54],\n",
    "       [902, 551, 489, 757, 274, 336, 389, 618,  43, 443],\n",
    "       [544, 889, 258, 322, 938,  58, 292, 871, 120, 780],\n",
    "       [431,  83,  92, 897, 399, 612, 566, 909, 634, 939]])\n"
   ]
  },
  {
   "cell_type": "code",
   "execution_count": 4,
   "id": "cc9f225f",
   "metadata": {},
   "outputs": [],
   "source": [
    "data=data.flatten()"
   ]
  },
  {
   "cell_type": "code",
   "execution_count": 5,
   "id": "9d7fa6b4",
   "metadata": {},
   "outputs": [],
   "source": [
    "data.sort()"
   ]
  },
  {
   "cell_type": "code",
   "execution_count": 9,
   "id": "5e60198c",
   "metadata": {},
   "outputs": [
    {
     "name": "stdout",
     "output_type": "stream",
     "text": [
      "Mean: 524.36\n",
      "Median: 551.5\n",
      "Mode: 129\n",
      "Standard Deviation: 286.1317710426439\n",
      "Variance: 81871.39039999997\n",
      "Range: 975\n",
      "Interquartile Range (IQR): 484.5\n",
      "Skewness: -0.2083082099994906\n",
      "Kurtosis: -1.1551182383580574\n"
     ]
    }
   ],
   "source": [
    "\n",
    "def calc_mean(data):\n",
    "    mean = sum(data) / len(data)\n",
    "    return mean\n",
    "\n",
    "def calc_median(data):\n",
    "    n = len(data)\n",
    "    if n % 2 == 0:\n",
    "        median = (data[n//2 - 1] + data[n//2]) / 2\n",
    "    else:\n",
    "        median = data[n//2]\n",
    "    return median\n",
    "\n",
    "def calc_mode(data):\n",
    "    frequency_dict = {}\n",
    "    for i in data:\n",
    "        if i in frequency_dict:\n",
    "            frequency_dict[i] += 1\n",
    "        else:\n",
    "            frequency_dict[i] = 1\n",
    "    \n",
    "    max_frequency = max(frequency_dict.values())\n",
    "    mode = [i for i, freq in frequency_dict.items() if freq == max_frequency]\n",
    "    \n",
    "    return mode[0]\n",
    "\n",
    "def calc_variance(data):\n",
    "    mean = calc_mean(data)\n",
    "    variance = sum((x - mean) ** 2 for x in data) / len(data)\n",
    "    return variance\n",
    "\n",
    "def calc_standard_deviation(data):\n",
    "    mean = calc_mean(data)\n",
    "    variance = calc_variance(data)\n",
    "    standard_deviation = variance ** 0.5\n",
    "    return standard_deviation\n",
    "\n",
    "\n",
    "def calc_range(data):\n",
    "    return max(data) - min(data)\n",
    "\n",
    "def calc_iqr(data):\n",
    "    n = len(data)\n",
    "    q1 = calc_median(data[:n//2])\n",
    "    q3 = calc_median(data[(n+1)//2:])\n",
    "    return q3 - q1\n",
    "\n",
    "def calc_skewness(data):\n",
    "    mean = calc_mean(data)\n",
    "    standard_dev = calc_standard_deviation(data)\n",
    "    n = len(data)\n",
    "    skewness = (sum((x - mean) ** 3 for x in data) * n) / ((n - 1) * (n - 2) * standard_dev ** 3)\n",
    "    return skewness\n",
    "\n",
    "def calc_kurtosis(data):\n",
    "    mean = calc_mean(data)\n",
    "    standard_dev = calc_standard_deviation(data)\n",
    "    n = len(data)\n",
    "    kurtosis = (sum((x - mean) ** 4 for x in data) * n * (n + 1)) / ((n - 1) * (n - 2) * (n - 3) * standard_dev ** 4) - (3 * (n - 1) ** 2) / ((n - 2) * (n - 3))\n",
    "    return kurtosis\n",
    "\n",
    "\n",
    "print(\"Mean:\", calc_mean(data))\n",
    "print(\"Median:\", calc_median(data))\n",
    "print(\"Mode:\", calc_mode(data))\n",
    "print(\"Standard Deviation:\", calc_standard_deviation(data))\n",
    "print(\"Variance:\", calc_variance(data))\n",
    "print(\"Range:\", calc_range(data))\n",
    "print(\"Interquartile Range (IQR):\", calc_iqr(data))\n",
    "print(\"Skewness:\", calc_skewness(data))\n",
    "print(\"Kurtosis:\", calc_kurtosis(data))"
   ]
  }
 ],
 "metadata": {
  "kernelspec": {
   "display_name": "Python 3 (ipykernel)",
   "language": "python",
   "name": "python3"
  },
  "language_info": {
   "codemirror_mode": {
    "name": "ipython",
    "version": 3
   },
   "file_extension": ".py",
   "mimetype": "text/x-python",
   "name": "python",
   "nbconvert_exporter": "python",
   "pygments_lexer": "ipython3",
   "version": "3.9.12"
  }
 },
 "nbformat": 4,
 "nbformat_minor": 5
}
